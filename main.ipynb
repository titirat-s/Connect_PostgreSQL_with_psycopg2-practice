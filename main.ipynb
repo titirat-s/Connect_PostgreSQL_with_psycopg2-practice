{
  "cells": [
    {
      "cell_type": "markdown",
      "metadata": {
        "id": "NSwQ87wJ1rU2"
      },
      "source": [
        "# Connect PostgreSQL database with Python"
      ]
    },
    {
      "cell_type": "markdown",
      "source": [],
      "metadata": {
        "id": "4o1w6T0m2qza"
      }
    },
    {
      "cell_type": "markdown",
      "metadata": {
        "id": "m_Gsurn-1rU6"
      },
      "source": [
        "## Library in use"
      ]
    },
    {
      "cell_type": "code",
      "execution_count": null,
      "metadata": {
        "id": "A6U19-Nk1rU7"
      },
      "outputs": [],
      "source": [
        "import psycopg2\n",
        "from MyPostgreSQLElementConfig import Config"
      ]
    },
    {
      "cell_type": "markdown",
      "metadata": {
        "id": "p3fnYt_s1rU8"
      },
      "source": [
        "## Connect to PostgreSQL"
      ]
    },
    {
      "cell_type": "markdown",
      "metadata": {
        "id": "xU2wwREz1rU9"
      },
      "source": [
        "Connect to PostgreSQL by using psycopg2 library with specific configs"
      ]
    },
    {
      "cell_type": "code",
      "execution_count": null,
      "metadata": {
        "id": "-vtplre81rU9",
        "outputId": "9c5c8541-ce73-49b2-af8c-5910123d07f2"
      },
      "outputs": [
        {
          "name": "stdout",
          "output_type": "stream",
          "text": [
            "Connected\n"
          ]
        }
      ],
      "source": [
        "try:\n",
        "    con = psycopg2.connect(\n",
        "        database = Config.PostgreSQL_DB,\n",
        "        user = Config.PostgreSQL_USER,\n",
        "        host = Config.PostgreSQL_HOST,\n",
        "        password = Config.PostgreSQL_PWRD,\n",
        "        port = Config.PostgreSQL_PORT\n",
        "    )\n",
        "    print(\"Connected\");\n",
        "except (Exception, psycopg2.DatabaseError) as e:\n",
        "    print(f\"failed to connect: {e}\");"
      ]
    },
    {
      "cell_type": "markdown",
      "metadata": {
        "id": "WkgtQn1L1rU-"
      },
      "source": [
        "# Work with PostgreSQL\n",
        "Create cursor to work with tables"
      ]
    },
    {
      "cell_type": "code",
      "execution_count": null,
      "metadata": {
        "id": "QSYkQ4Js1rU-"
      },
      "outputs": [],
      "source": [
        "cur = con.cursor()"
      ]
    },
    {
      "cell_type": "markdown",
      "metadata": {
        "id": "mGBzc6Pw1rU_"
      },
      "source": [
        "## List tables in database"
      ]
    },
    {
      "cell_type": "code",
      "execution_count": null,
      "metadata": {
        "id": "FX5CqfqZ1rU_"
      },
      "outputs": [],
      "source": [
        "def list_table():\n",
        "    \"\"\"Function use to read table name in connected database.\n",
        "\n",
        "    Args: none\n",
        "\n",
        "    Returns: none\n",
        "    \"\"\"\n",
        "    try:\n",
        "        cur.execute(\"\"\"\n",
        "            --list table name\n",
        "            SELECT table_name\n",
        "            FROM information_schema.tables\n",
        "            WHERE table_schema = 'public' \"\"\")\n",
        "        table_names = cur.fetchall()\n",
        "        for table_name in table_names:\n",
        "            print(table_name);\n",
        "    except (Exception, psycopg2.DatabaseError) as e:\n",
        "        print(f\"Execute to list table failed: {e}\");"
      ]
    },
    {
      "cell_type": "code",
      "execution_count": null,
      "metadata": {
        "id": "7-sMRG921rVA",
        "outputId": "e7231c50-d9cf-40cc-cd33-376dc3dbfb1c"
      },
      "outputs": [
        {
          "name": "stdout",
          "output_type": "stream",
          "text": [
            "('pg_stat_statements',)\n"
          ]
        }
      ],
      "source": [
        "# list table name in db\n",
        "list_table()"
      ]
    },
    {
      "cell_type": "markdown",
      "metadata": {
        "id": "tt21ZSiT1rVA"
      },
      "source": [
        "## Create Table"
      ]
    },
    {
      "cell_type": "markdown",
      "metadata": {
        "id": "vQDpg0bG1rVA"
      },
      "source": [
        "Create function to read created syntax to string"
      ]
    },
    {
      "cell_type": "code",
      "execution_count": null,
      "metadata": {
        "id": "R4Ao26B-1rVA"
      },
      "outputs": [],
      "source": [
        "def read_file_to_str(filepath):\n",
        "    \"\"\"Function use to read text within file and return text\n",
        "\n",
        "    Args:\n",
        "        filepath (str): Paths of file you need to read\n",
        "\n",
        "    Returns:\n",
        "        container: variable contain text strings contain within file\n",
        "    \"\"\"\n",
        "    try:\n",
        "        reader = open(filepath, \"r\")\n",
        "        container = str()\n",
        "        for text in reader:\n",
        "            container = container + text\n",
        "        reader.close()\n",
        "        return container\n",
        "    except KeyError as e:\n",
        "        print(f\"Read files Error: {e}\")"
      ]
    },
    {
      "cell_type": "code",
      "execution_count": null,
      "metadata": {
        "id": "z0dyMgvT1rVB",
        "outputId": "81f0dbac-1e56-46c8-d9ec-a82c14967e60"
      },
      "outputs": [
        {
          "name": "stdout",
          "output_type": "stream",
          "text": [
            "excuter type: <class 'str'>\n"
          ]
        }
      ],
      "source": [
        "# read DDL text file\n",
        "ddl_c = read_file_to_str(\"Analyze_Pizza_Restaurant_Data_with_SQL-main/data_create.sql\")\n",
        "print(f\"excuter type: {type(ddl_c)}\")"
      ]
    },
    {
      "cell_type": "markdown",
      "metadata": {
        "id": "f_mLIsFt1rVC"
      },
      "source": [
        "Create table using read syntax"
      ]
    },
    {
      "cell_type": "code",
      "execution_count": null,
      "metadata": {
        "id": "tzVOA4nb1rVC",
        "outputId": "4420aff2-7c06-44d0-cab8-39034a983666"
      },
      "outputs": [
        {
          "name": "stdout",
          "output_type": "stream",
          "text": [
            "Execute completed\n"
          ]
        }
      ],
      "source": [
        "# execute ddl syntax to db\n",
        "try:\n",
        "    cur.execute(ddl_c)\n",
        "    print(\"Execute completed\")\n",
        "    con.commit()\n",
        "    print(\"Commited\")\n",
        "except (Exception, psycopg2.DatabaseError) as e:\n",
        "    print(f\"Execute failed: {e}\");"
      ]
    },
    {
      "cell_type": "markdown",
      "metadata": {
        "id": "BESrpvp01rVD"
      },
      "source": [
        "After commit create table code, we have more table to work with."
      ]
    },
    {
      "cell_type": "code",
      "execution_count": null,
      "metadata": {
        "id": "ebrfDDbF1rVD",
        "outputId": "c67cbfe3-eaaf-460e-9035-b104b39cd1d9"
      },
      "outputs": [
        {
          "name": "stdout",
          "output_type": "stream",
          "text": [
            "('pg_stat_statements',)\n",
            "('customers_tbl',)\n",
            "('menu_tbl',)\n",
            "('orders_tbl',)\n",
            "('orders_2nd',)\n"
          ]
        }
      ],
      "source": [
        "list_table()"
      ]
    },
    {
      "cell_type": "markdown",
      "metadata": {
        "id": "E5zMSm521rVD"
      },
      "source": [
        "## Insert data\n",
        "Created table, need to insert some data to work with."
      ]
    },
    {
      "cell_type": "code",
      "execution_count": null,
      "metadata": {
        "id": "IoxhsGd_1rVE"
      },
      "outputs": [],
      "source": [
        "# clear data within table\n",
        "\"\"\" try:\n",
        "    cur.execute(\"truncate table menu_tbl cascade\")\n",
        "except (Exception, psycopg2.DatabaseError) as e:\n",
        "    print(f\"Execute failed: {e}\");\n",
        "\"\"\""
      ]
    },
    {
      "cell_type": "code",
      "execution_count": null,
      "metadata": {
        "id": "PAs2obrN1rVE"
      },
      "outputs": [],
      "source": [
        "# try to retrieve some data from table\n",
        "cur.execute(\"select * from menu_tbl\")\n",
        "menu_tbl = cur.fetchall()\n",
        "for menu in menu_tbl:\n",
        "    print(menu);"
      ]
    },
    {
      "cell_type": "code",
      "execution_count": null,
      "metadata": {
        "id": "BU379txK1rVE",
        "outputId": "91f461c9-10ce-4d47-d176-80577e5a3e73"
      },
      "outputs": [
        {
          "name": "stdout",
          "output_type": "stream",
          "text": [
            "<class 'str'>\n"
          ]
        }
      ],
      "source": [
        "# read DML syntax file\n",
        "ddl_menu = read_file_to_str(\"Analyze_Pizza_Restaurant_Data_with_SQL-main/data_dummy_menu.sql\")\n",
        "print(type(ddl_menu))"
      ]
    },
    {
      "cell_type": "code",
      "execution_count": null,
      "metadata": {
        "id": "dhG5RY511rVE",
        "outputId": "a92218ef-5123-4769-e1bc-6b79c2603b14"
      },
      "outputs": [
        {
          "name": "stdout",
          "output_type": "stream",
          "text": [
            "Execute completed\n"
          ]
        }
      ],
      "source": [
        "# execute ddl\n",
        "try:\n",
        "    cur.execute(ddl_menu)\n",
        "    print(\"Execute completed\")\n",
        "    con.commit()\n",
        "except (Exception, psycopg2.DatabaseError) as e:\n",
        "    print(f\"Execute failed: {e}\");"
      ]
    },
    {
      "cell_type": "code",
      "execution_count": null,
      "metadata": {
        "id": "AF3RKgq31rVE",
        "outputId": "e9145d19-3b15-464c-f71f-a14a4a2b9500"
      },
      "outputs": [
        {
          "name": "stdout",
          "output_type": "stream",
          "text": [
            "('MP001', 'Supreme pizza 16\"', 21)\n",
            "('MP002', 'Super Supreme pizza 16\"', 23)\n",
            "('MP003', 'Cheese lover pizza 16\"', 17)\n",
            "('MP004', 'Veggie lover pizza 16\"', 21)\n",
            "('MP005', 'Meat lover pizza 16\"', 23)\n",
            "('MP006', 'Pepperoni lover pizza 16\"', 19)\n",
            "('MP007', 'Hawaiian pizza 16\"', 17)\n",
            "('MP008', 'Garlic chicken pizza 16\"', 19)\n",
            "('MP009', 'Spanish mushroom & ham pizza 16\"', 20)\n",
            "('MA001', 'Cream chicken soup', 19)\n",
            "('MA002', 'Potato bacon soup', 16)\n",
            "('MA003', 'Cream of mushroom soup', 16)\n",
            "('MA004', 'Gralic bread', 14)\n",
            "('MA005', 'BBQ chicken', 18)\n",
            "('MT001', 'Pineapple topping', 3)\n",
            "('MT002', 'Pepperoni topping', 3)\n",
            "('MT003', 'Peacon topping', 3)\n",
            "('MT004', 'Extra cheese', 3)\n",
            "('MD001', 'Drinking water', 2)\n",
            "('MD002', 'Soft drink soda', 4)\n"
          ]
        }
      ],
      "source": [
        "cur.execute(\"select * from menu_tbl\")\n",
        "menu_tbl = cur.fetchall()\n",
        "for menu in menu_tbl:\n",
        "    print(menu);"
      ]
    },
    {
      "cell_type": "markdown",
      "metadata": {
        "id": "klqaW_uY1rVF"
      },
      "source": [
        "Customer table"
      ]
    },
    {
      "cell_type": "code",
      "execution_count": null,
      "metadata": {
        "id": "TjSKXsOG1rVF",
        "outputId": "8e2c2d75-ebbd-4a3b-8465-21b90992055f"
      },
      "outputs": [
        {
          "name": "stdout",
          "output_type": "stream",
          "text": [
            "<class 'str'>\n"
          ]
        }
      ],
      "source": [
        "ddl_cus = read_file_to_str(\"Analyze_Pizza_Restaurant_Data_with_SQL-main/data_dummy_customer.sql\")\n",
        "print(type(ddl_cus))"
      ]
    },
    {
      "cell_type": "code",
      "execution_count": null,
      "metadata": {
        "id": "v2q5fG_71rVF",
        "outputId": "22ff2b29-525b-4f6d-d6f6-b77bc931d72d"
      },
      "outputs": [
        {
          "name": "stdout",
          "output_type": "stream",
          "text": [
            "Execute completed\n"
          ]
        }
      ],
      "source": [
        "try:\n",
        "    cur.execute(ddl_cus)\n",
        "    print(\"Execute completed\")\n",
        "    con.commit()\n",
        "except (Exception, psycopg2.DatabaseError) as e:\n",
        "    print(f\"Execute failed: {e}\");"
      ]
    },
    {
      "cell_type": "code",
      "execution_count": null,
      "metadata": {
        "id": "L-G9ZLvk1rVF",
        "outputId": "841544cf-95bf-41f1-b3a9-aa7dc85f1241"
      },
      "outputs": [
        {
          "name": "stdout",
          "output_type": "stream",
          "text": [
            "('C0001', 'Milgrom', 'Patricia', '000-01-0000', None)\n",
            "('C0002', 'Adams', 'Caesar', '000-02-2222', 'sandy@gmail.com')\n",
            "('C0003', 'Smith', 'Jane', '222-52-5555', None)\n",
            "('C0004', 'Bronson', 'Mathew', '432-19-8765', 'Paul_br@gmail.com')\n",
            "('C0005', 'Raynor', 'David', '464-64-4466', None)\n",
            "('C0006', 'He', 'Tian', '767-74-7373', 'Martin.U@mar.com')\n",
            "('C0007', 'Lockwoods', 'James', '106-36-2248', 'James.L@lockwoods.com')\n",
            "('C0008', 'Gillan', 'Jake', '264-88-5849', 'aston.l@gmail.com')\n",
            "('C0009', 'Kylot', 'Hugo', '694-58-7846', None)\n",
            "('C0010', 'Suh', 'Leehan', '005-54-6659', None)\n",
            "('C0011', 'Zheng', 'Weiyun', '461-55-4875', None)\n",
            "('C0012', 'Suwakhawa', 'Suwadee', '854-75-7842', None)\n",
            "('C0013', 'Han', 'Lee', '061-54-0606', None)\n",
            "('C0014', 'Riegrow', 'Jason', '260-26-2626', 'Park_Jason@yahoo.com')\n",
            "('C0015', 'Fauvel', 'MaxenxeDan', '648-57-2345', 'iammaxfaulvel@gmail.com')\n",
            "('C0016', 'Johnson', 'James', '111-12-1111', 'Johnny.J@yahoo.com')\n"
          ]
        }
      ],
      "source": [
        "cur.execute(\"select * from customers_tbl\")\n",
        "cus_tbl = cur.fetchall()\n",
        "for cus in cus_tbl:\n",
        "    print(cus);"
      ]
    },
    {
      "cell_type": "markdown",
      "metadata": {
        "id": "RBSN3jtV1rVF"
      },
      "source": [
        "## Manipulate data"
      ]
    },
    {
      "cell_type": "markdown",
      "metadata": {
        "id": "m0MlTjl41rVF"
      },
      "source": [
        "Add menu data"
      ]
    },
    {
      "cell_type": "code",
      "execution_count": null,
      "metadata": {
        "id": "991qiKUd1rVF",
        "outputId": "28aa44f5-0233-4e6f-e56b-29fb05e1d629"
      },
      "outputs": [
        {
          "name": "stdout",
          "output_type": "stream",
          "text": [
            "Execute completed\n"
          ]
        }
      ],
      "source": [
        "new_menu = \"\"\"insert into menu_tbl\n",
        "  (menuid, menu, price)\n",
        "  values\n",
        "  ('MD004', 'Punch soda', 2.0),\n",
        "  ('MD005', 'Tropical juice', 2.0),\n",
        "  ('MD006', 'Beer', 4.0)\"\"\"\n",
        "\n",
        "try:\n",
        "  cur.execute(new_menu)\n",
        "  print(\"Execute completed\")\n",
        "  con.commit()\n",
        "except (Exception, psycopg2.DatabaseError) as e:\n",
        "    print(f\"Execute failed: {e}\");"
      ]
    },
    {
      "cell_type": "markdown",
      "metadata": {
        "id": "QcPQg_2R1rVG"
      },
      "source": [
        "Update menu data"
      ]
    },
    {
      "cell_type": "code",
      "execution_count": null,
      "metadata": {
        "id": "f8xen61n1rVG",
        "outputId": "abdd6fa9-a5f2-4ece-850b-71d8c47fe068"
      },
      "outputs": [
        {
          "name": "stdout",
          "output_type": "stream",
          "text": [
            "Execute completed\n",
            "('MD002', 'Soft drink soda', 4)\n"
          ]
        }
      ],
      "source": [
        "# retrive data before update\n",
        "try:\n",
        "  cur.execute(\"\"\"select *\n",
        "              from menu_tbl\n",
        "              where menuid = 'MD002'\"\"\")\n",
        "  print(\"Execute completed\")\n",
        "  for menu in cur.fetchall():\n",
        "    print(menu)\n",
        "except (Exception, psycopg2.DatabaseError) as e:\n",
        "    print(f\"Execute failed: {e}\");"
      ]
    },
    {
      "cell_type": "code",
      "execution_count": null,
      "metadata": {
        "id": "y3Je3sip1rVG",
        "outputId": "b9065611-a6d0-49e8-90e8-2a0257eaa779"
      },
      "outputs": [
        {
          "name": "stdout",
          "output_type": "stream",
          "text": [
            "Execute completed\n"
          ]
        }
      ],
      "source": [
        "# update data\n",
        "new_price_md2 = \"\"\"update menu_tbl\n",
        "set price = 3.0\n",
        "where menuid = 'MD002';\"\"\"\n",
        "\n",
        "try:\n",
        "  cur.execute(new_price_md2)\n",
        "  print(\"Execute completed\")\n",
        "  con.commit()\n",
        "except (Exception, psycopg2.DatabaseError) as e:\n",
        "    print(f\"Execute failed: {e}\");"
      ]
    },
    {
      "cell_type": "code",
      "execution_count": null,
      "metadata": {
        "id": "ZaZbOVRG1rVG",
        "outputId": "8deaf9d6-48e7-412a-85a5-c099211b0491"
      },
      "outputs": [
        {
          "name": "stdout",
          "output_type": "stream",
          "text": [
            "Execute completed\n",
            "('MD002', 'Soft drink soda', 3)\n"
          ]
        }
      ],
      "source": [
        "# retrieve data after update\n",
        "try:\n",
        "  cur.execute(\"\"\"select *\n",
        "              from menu_tbl\n",
        "              where menuid = 'MD002'\"\"\")\n",
        "  print(\"Execute completed\")\n",
        "  for menu in cur.fetchall():\n",
        "    print(menu)\n",
        "except (Exception, psycopg2.DatabaseError) as e:\n",
        "    print(f\"Execute failed: {e}\");"
      ]
    },
    {
      "cell_type": "code",
      "execution_count": null,
      "metadata": {
        "id": "_YlPmu7w1rVG",
        "outputId": "5f118a81-a23c-4125-ee1a-58d6169071e3"
      },
      "outputs": [
        {
          "name": "stdout",
          "output_type": "stream",
          "text": [
            "('MA001', 'Cream chicken soup', 19)\n",
            "('MA002', 'Potato bacon soup', 16)\n",
            "('MA003', 'Cream of mushroom soup', 16)\n",
            "('MA004', 'Gralic bread', 14)\n",
            "('MA005', 'BBQ chicken', 18)\n",
            "('MD001', 'Drinking water', 2)\n",
            "('MD002', 'Soft drink soda', 3)\n",
            "('MD004', 'Punch soda', 2)\n",
            "('MD005', 'Tropical juice', 2)\n",
            "('MD006', 'Beer', 4)\n"
          ]
        }
      ],
      "source": [
        "# retrieve first 10 menus\n",
        "try:\n",
        "  cur.execute(\"\"\"select * from menu_tbl order by menuid asc limit 10\"\"\")\n",
        "  for menu in cur.fetchall():\n",
        "    print(menu)\n",
        "except (Exception, psycopg2.DatabaseError) as e:\n",
        "    print(f\"Execute failed: {e}\");"
      ]
    },
    {
      "cell_type": "markdown",
      "metadata": {
        "id": "sNHmV4NW1rVG"
      },
      "source": [
        "## Query data"
      ]
    },
    {
      "cell_type": "markdown",
      "source": [
        "Retrieve customer name"
      ],
      "metadata": {
        "id": "BwjrCEXN2iRE"
      }
    },
    {
      "cell_type": "code",
      "execution_count": null,
      "metadata": {
        "id": "ggNiZcPi1rVL",
        "outputId": "ec96ae9e-1518-4237-a8c3-3c8c6a872db6"
      },
      "outputs": [
        {
          "name": "stdout",
          "output_type": "stream",
          "text": [
            "('C0001', 'Milgrom Patricia')\n",
            "('C0002', 'Adams Caesar')\n",
            "('C0003', 'Smith Jane')\n",
            "('C0004', 'Bronson Mathew')\n",
            "('C0005', 'Raynor David')\n",
            "('C0006', 'He Tian')\n",
            "('C0007', 'Lockwoods James')\n",
            "('C0008', 'Gillan Jake')\n",
            "('C0009', 'Kylot Hugo')\n",
            "('C0010', 'Suh Leehan')\n"
          ]
        }
      ],
      "source": [
        "cur.execute(\"\"\"select c.cusid,\n",
        "            c.lastname|| ' ' ||c.firstname as name\n",
        "            from customers_tbl c\n",
        "            limit 10\"\"\")\n",
        "cus_name = cur.fetchall()\n",
        "for cus in cus_name:\n",
        "    print(cus);"
      ]
    },
    {
      "cell_type": "markdown",
      "metadata": {
        "id": "6nvoNSUn1rVH"
      },
      "source": [
        "Retrieve pizza menus"
      ]
    },
    {
      "cell_type": "code",
      "execution_count": null,
      "metadata": {
        "id": "P1vhpx8B1rVL",
        "outputId": "f1f9a0b7-ebec-44cd-97d7-cb423a25fcee"
      },
      "outputs": [
        {
          "name": "stdout",
          "output_type": "stream",
          "text": [
            "('MP001', 'Supreme pizza 16\"', 21)\n",
            "('MP002', 'Super Supreme pizza 16\"', 23)\n",
            "('MP003', 'Cheese lover pizza 16\"', 17)\n",
            "('MP004', 'Veggie lover pizza 16\"', 21)\n",
            "('MP005', 'Meat lover pizza 16\"', 23)\n",
            "('MP006', 'Pepperoni lover pizza 16\"', 19)\n",
            "('MP007', 'Hawaiian pizza 16\"', 17)\n",
            "('MP008', 'Garlic chicken pizza 16\"', 19)\n",
            "('MP009', 'Spanish mushroom & ham pizza 16\"', 20)\n"
          ]
        }
      ],
      "source": [
        "cur.execute(\"select * from menu_tbl where menuid like 'MP%'\")\n",
        "menu_pizza = cur.fetchall()\n",
        "for menu in menu_pizza:\n",
        "    print(menu);"
      ]
    },
    {
      "cell_type": "markdown",
      "metadata": {
        "id": "GUw2Sk391rVL"
      },
      "source": [
        "Retrieve customers id and his/her name"
      ]
    },
    {
      "cell_type": "code",
      "execution_count": null,
      "metadata": {
        "id": "tUkDfm2o1rVL"
      },
      "outputs": [],
      "source": [
        "cur.close()\n",
        "con.close()"
      ]
    }
  ],
  "metadata": {
    "kernelspec": {
      "display_name": "Python 3",
      "language": "python",
      "name": "python3"
    },
    "language_info": {
      "codemirror_mode": {
        "name": "ipython",
        "version": 3
      },
      "file_extension": ".py",
      "mimetype": "text/x-python",
      "name": "python",
      "nbconvert_exporter": "python",
      "pygments_lexer": "ipython3",
      "version": "3.12.1"
    },
    "colab": {
      "provenance": [],
      "toc_visible": true
    }
  },
  "nbformat": 4,
  "nbformat_minor": 0
}